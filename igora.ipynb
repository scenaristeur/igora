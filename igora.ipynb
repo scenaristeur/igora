{
  "cells": [
    {
      "cell_type": "markdown",
      "metadata": {
        "colab_type": "text",
        "id": "view-in-github"
      },
      "source": [
        "<a href=\"https://colab.research.google.com/github/scenaristeur/igora/blob/main/igora.ipynb\" target=\"_parent\"><img src=\"https://colab.research.google.com/assets/colab-badge.svg\" alt=\"Open In Colab\"/></a>"
      ]
    },
    {
      "cell_type": "code",
      "execution_count": null,
      "metadata": {
        "id": "M8VqRydEeGzy"
      },
      "outputs": [],
      "source": [
        "# DEMO of Igora Protocol\n",
        "# doc https://scenaristeur.github.io/igora/\n",
        "# discord https://discord.com/invite/ZZUZwhQnyj\n",
        "# code source https://github.com/scenaristeur/igora\n",
        "# discussions https://github.com/scenaristeur/igora/discussions\n",
        "# issues https://github.com/scenaristeur/igora/issues\n",
        "\n",
        "import logging\n",
        "import os\n",
        "\n",
        "# install nodejs V20\n",
        "!dpkg --configure -a\n",
        "!sudo apt-get update\n",
        "!sudo apt-get install -y ca-certificates curl gnupg\n",
        "!sudo mkdir -p /etc/apt/keyrings\n",
        "!curl -fsSL https://deb.nodesource.com/gpgkey/nodesource-repo.gpg.key | sudo gpg --dearmor -o /etc/apt/keyrings/nodesource.gpg\n",
        "!NODE_MAJOR=20 && echo \"deb [signed-by=/etc/apt/keyrings/nodesource.gpg] https://deb.nodesource.com/node_$NODE_MAJOR.x nodistro main\" | sudo tee /etc/apt/sources.list.d/nodesource.list\n",
        "!sudo apt-get update\n",
        "!sudo apt-get install nodejs -y\n",
        "\n",
        "!node -v"
      ]
    },
    {
      "cell_type": "code",
      "execution_count": null,
      "metadata": {
        "id": "kNb45R0FfML5"
      },
      "outputs": [],
      "source": [
        "# clone igora and install\n",
        "%cd /content\n",
        "! git clone https://github.com/scenaristeur/igora\n",
        "%cd igora\n",
        "!npm install"
      ]
    },
    {
      "cell_type": "code",
      "execution_count": null,
      "metadata": {
        "id": "TA-rlplFg0vK"
      },
      "outputs": [],
      "source": [
        "# copy .env-example to .env\n",
        "!cp .env-example .env\n",
        "# change YJS_ENV from local to remote for google colab\n",
        "!sed -i 's/YJS_ENV=LOCAL/YJS_ENV=REMOTE/g' .env\n",
        "!cat .env"
      ]
    },
    {
      "cell_type": "code",
      "execution_count": null,
      "metadata": {
        "id": "5fqE8TKwi1Ok"
      },
      "outputs": [],
      "source": [
        "# install model\n",
        "# download a gguf model like https://huggingface.co/TheBloke/dolphin-2.2.1-mistral-7B-GGUF\n",
        "#modelName=\"dolphin-2.2.1-mistral-7b.Q2_K.gguf\"\n",
        "#modelPath=\"/content/igora/igora/models/\"\n",
        "# you can download alternatively use \" npx ipull -s /content/igora/models/models https://huggingface.co/TheBloke/dolphin-2.2.1-mistral-7B-GGUF/resolve/main/dolphin-2.2.1-mistral-7b.Q2_K.gguf \"\n",
        "\n",
        "!wget -O /content/igora/models/dolphin-2.2.1-mistral-7b.Q2_K.gguf https://huggingface.co/TheBloke/dolphin-2.2.1-mistral-7B-GGUF/resolve/main/dolphin-2.2.1-mistral-7b.Q2_K.gguf?download=true"
      ]
    },
    {
      "cell_type": "code",
      "execution_count": null,
      "metadata": {},
      "outputs": [],
      "source": [
        "!npm run start\n"
      ]
    }
  ],
  "metadata": {
    "colab": {
      "authorship_tag": "ABX9TyMLD3xJ/hY1+brlVhEdx+FY",
      "include_colab_link": true,
      "provenance": []
    },
    "kernelspec": {
      "display_name": "Python 3",
      "name": "python3"
    },
    "language_info": {
      "name": "python",
      "version": "3.10.12"
    }
  },
  "nbformat": 4,
  "nbformat_minor": 0
}
