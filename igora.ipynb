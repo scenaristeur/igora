{
  "nbformat": 4,
  "nbformat_minor": 0,
  "metadata": {
    "colab": {
      "provenance": [],
      "authorship_tag": "ABX9TyMLD3xJ/hY1+brlVhEdx+FY",
      "include_colab_link": true
    },
    "kernelspec": {
      "name": "python3",
      "display_name": "Python 3"
    },
    "language_info": {
      "name": "python"
    }
  },
  "cells": [
    {
      "cell_type": "markdown",
      "metadata": {
        "id": "view-in-github",
        "colab_type": "text"
      },
      "source": [
        "<a href=\"https://colab.research.google.com/github/scenaristeur/igora/blob/main/igora.ipynb\" target=\"_parent\"><img src=\"https://colab.research.google.com/assets/colab-badge.svg\" alt=\"Open In Colab\"/></a>"
      ]
    },
    {
      "cell_type": "markdown",
      "source": [
        "\n",
        "\n",
        "```\n",
        "Nodejs\n",
        "```\n",
        "\n"
      ],
      "metadata": {
        "id": "KXsTDrtReM9y"
      }
    },
    {
      "cell_type": "code",
      "execution_count": null,
      "metadata": {
        "id": "M8VqRydEeGzy"
      },
      "outputs": [],
      "source": [
        "#@markdown <h3>📝INSTALL NODEJS</h3>\n",
        "import logging\n",
        "import os\n",
        "\n",
        "\n",
        "!dpkg --configure -a\n",
        "!sudo apt-get update\n",
        "!sudo apt-get install -y ca-certificates curl gnupg\n",
        "!sudo mkdir -p /etc/apt/keyrings\n",
        "!curl -fsSL https://deb.nodesource.com/gpgkey/nodesource-repo.gpg.key | sudo gpg --dearmor -o /etc/apt/keyrings/nodesource.gpg\n",
        "!NODE_MAJOR=20 && echo \"deb [signed-by=/etc/apt/keyrings/nodesource.gpg] https://deb.nodesource.com/node_$NODE_MAJOR.x nodistro main\" | sudo tee /etc/apt/sources.list.d/nodesource.list\n",
        "!sudo apt-get update\n",
        "# RUN the following commented lines to remove the previous installed nodejs (avoid conflict error)\n",
        "#!sudo dpkg --remove --force-remove-reinstreq nodejs\n",
        "#!sudo dpkg --remove --force-remove-reinstreq libnode-dev\n",
        "#!sudo dpkg --remove --force-remove-reinstreq libnode72:amd64\n",
        "!sudo apt-get install nodejs -y\n",
        "\n",
        "# if os.path.exists(\"/tools/node/\") == False:\n",
        "#   !apt install nodejs\n",
        "#   !npm i -g npm\n",
        "# else:\n",
        "#   !echo \"nodejs Already installed\"\n",
        "!node -v"
      ]
    },
    {
      "cell_type": "code",
      "source": [
        "# clone igora and install\n",
        "%cd /content\n",
        "! git clone https://github.com/scenaristeur/igora\n",
        "%cd igora\n",
        "!npm install"
      ],
      "metadata": {
        "id": "kNb45R0FfML5"
      },
      "execution_count": null,
      "outputs": []
    },
    {
      "cell_type": "code",
      "source": [
        "!cp .env-example .env\n",
        "!cat .env\n",
        "!npm run fix"
      ],
      "metadata": {
        "id": "TA-rlplFg0vK"
      },
      "execution_count": null,
      "outputs": []
    },
    {
      "cell_type": "code",
      "source": [
        "# install model\n",
        "# download a gguf model like https://huggingface.co/TheBloke/dolphin-2.2.1-mistral-7B-GGUF\n",
        "#modelName=\"dolphin-2.2.1-mistral-7b.Q2_K.gguf\"\n",
        "#modelPath=\"/content/igora/igora/models/\"\n",
        "\n",
        "!wget -O /content/igora/models/dolphin-2.2.1-mistral-7b.Q2_K.gguf https://huggingface.co/TheBloke/dolphin-2.2.1-mistral-7B-GGUF/resolve/main/dolphin-2.2.1-mistral-7b.Q2_K.gguf?download=true\n",
        "\n",
        "\n"
      ],
      "metadata": {
        "id": "5fqE8TKwi1Ok"
      },
      "execution_count": null,
      "outputs": []
    }
  ]
}